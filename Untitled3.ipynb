{
 "cells": [
  {
   "cell_type": "code",
   "execution_count": null,
   "metadata": {},
   "outputs": [
    {
     "name": "stdout",
     "output_type": "stream",
     "text": [
      "YAKUTIAN LAIKA DOG \n",
      " \n",
      " \n",
      " \n",
      " \n",
      " \n",
      " \n",
      " \n",
      " \n",
      " \n",
      " \n",
      " \n",
      " \n",
      " \n",
      " \n",
      " \n",
      " \n",
      " \n",
      " \n",
      " \n",
      " \n",
      " \n",
      "\n",
      "[%] Downloading Images to A:\\Python Projects\\Dog-Breeds-Dataset\\yakutian laika dog\n",
      "\n",
      "\n",
      "[!!]Indexing page: 1\n",
      "\n",
      "[%] Indexed 35 Images on Page 1.\n",
      "\n",
      "===============================================\n",
      "\n",
      "[%] Downloading Image #1 from https://www.nativebreed.org/wp-content/uploads/2020/07/Yakutian-Laika-breed-718x1024.jpg\n",
      "[%] File Downloaded !\n",
      "\n",
      "[%] Downloading Image #2 from http://cdn.shopify.com/s/files/1/0994/0236/articles/yakutian-laika_1200x1200.jpg?v=1542350839\n",
      "[%] File Downloaded !\n",
      "\n",
      "[%] Downloading Image #3 from https://doggiedesigner.com/wp-content/uploads/2018/04/224.1.jpg\n",
      "[Error]Invalid image, not saving https://doggiedesigner.com/wp-content/uploads/2018/04/224.1.jpg\n",
      "\n",
      "[!] Issue getting: https://doggiedesigner.com/wp-content/uploads/2018/04/224.1.jpg\n",
      "[!] Error:: Invalid image, not saving https://doggiedesigner.com/wp-content/uploads/2018/04/224.1.jpg\n",
      "\n",
      "[%] Downloading Image #3 from https://doggiefetch.com/wp-content/uploads/2020/07/Yakutian-Laika-Side-Posing.jpg\n",
      "[%] File Downloaded !\n",
      "\n",
      "[%] Downloading Image #4 from https://www.dogdwell.com/wp-content/uploads/2021/01/Yakutian-Laika-Puppy.jpg\n",
      "[%] File Downloaded !\n",
      "\n",
      "[%] Downloading Image #5 from https://s3.amazonaws.com/cdn-origin-etr.akc.org/wp-content/uploads/2017/11/21194822/Yakutian-Laika-Care.jpg\n"
     ]
    }
   ],
   "source": [
    "import pandas as pd\n",
    "import os\n",
    "from bing_image_downloader import downloader as dl\n",
    "data = pd.read_csv('FCi Breeds.csv')\n",
    "\n",
    "for dog in data['name']:\n",
    "    \n",
    "    if dog.upper().startswith('Y'):\n",
    "    \n",
    "        if 'dog' not in dog.lower():\n",
    "            name = dog.lower() + ' dog'\n",
    "\n",
    "        else:\n",
    "            name = dog.lower()\n",
    "\n",
    "        if name not in os.listdir():\n",
    "            print(name.upper(), '\\n \\n \\n \\n \\n \\n \\n \\n \\n \\n \\n \\n \\n \\n \\n \\n \\n \\n \\n \\n \\n \\n')\n",
    "\n",
    "            dl.download(query=name, \n",
    "                        limit=35, \n",
    "                        output_dir=r'A:\\Python Projects\\Dog-Breeds-Dataset',\n",
    "                        adult_filter_off=False)"
   ]
  },
  {
   "cell_type": "code",
   "execution_count": null,
   "metadata": {},
   "outputs": [],
   "source": []
  }
 ],
 "metadata": {
  "kernelspec": {
   "display_name": "Python 3",
   "language": "python",
   "name": "python3"
  },
  "language_info": {
   "codemirror_mode": {
    "name": "ipython",
    "version": 3
   },
   "file_extension": ".py",
   "mimetype": "text/x-python",
   "name": "python",
   "nbconvert_exporter": "python",
   "pygments_lexer": "ipython3",
   "version": "3.8.5"
  }
 },
 "nbformat": 4,
 "nbformat_minor": 4
}
