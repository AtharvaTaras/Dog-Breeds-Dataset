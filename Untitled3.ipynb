{
 "cells": [
  {
   "cell_type": "code",
   "execution_count": 2,
   "metadata": {},
   "outputs": [],
   "source": [
    "import pandas as pd\n",
    "import os\n",
    "from bing_image_downloader import downloader as dl\n",
    "data = pd.read_csv('FCi Breeds.csv')\n",
    "\n",
    "for dog in data['name']:\n",
    "    \n",
    "    if dog.upper().startswith('U'):\n",
    "    \n",
    "        if 'dog' not in dog.lower():\n",
    "            name = dog.lower() + ' dog'\n",
    "\n",
    "        else:\n",
    "            name = dog.lower()\n",
    "\n",
    "        if name not in os.listdir():\n",
    "            print(name.upper(), '\\n \\n \\n \\n \\n \\n \\n \\n \\n \\n \\n \\n \\n \\n \\n \\n \\n \\n \\n \\n \\n \\n')\n",
    "\n",
    "            dl.download(query=name, \n",
    "                        limit=35, \n",
    "                        output_dir=r'A:\\Python Projects\\Dog-Breeds-Dataset',\n",
    "                        adult_filter_off=False)"
   ]
  },
  {
   "cell_type": "code",
   "execution_count": null,
   "metadata": {},
   "outputs": [],
   "source": []
  }
 ],
 "metadata": {
  "kernelspec": {
   "display_name": "Python 3",
   "language": "python",
   "name": "python3"
  },
  "language_info": {
   "codemirror_mode": {
    "name": "ipython",
    "version": 3
   },
   "file_extension": ".py",
   "mimetype": "text/x-python",
   "name": "python",
   "nbconvert_exporter": "python",
   "pygments_lexer": "ipython3",
   "version": "3.8.5"
  }
 },
 "nbformat": 4,
 "nbformat_minor": 4
}
